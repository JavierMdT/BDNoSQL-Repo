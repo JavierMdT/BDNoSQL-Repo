{
 "cells": [
  {
   "cell_type": "code",
   "execution_count": null,
   "id": "e5ca11bb",
   "metadata": {},
   "outputs": [],
   "source": [
    "import redis as r\n",
    "\n",
    "REDIS_PORT = 6379\n",
    "r = r.Redis(host='localhost',\n",
    "                port=REDIS_PORT,\n",
    "                decode_responses=True)"
   ]
  },
  {
   "cell_type": "code",
   "execution_count": 18,
   "id": "dbefbb97",
   "metadata": {},
   "outputs": [
    {
     "data": {
      "text/plain": [
       "['ED_0:PL_0-B:SALA_23',\n",
       " 'ED_3:PL_3-A:SALA_35',\n",
       " 'ED_1:PL_1-A:SALA_20',\n",
       " 'ED_2:PL_4-A:SALA_60',\n",
       " 'ED_1:PL_1-B:SALA_35']"
      ]
     },
     "execution_count": 18,
     "metadata": {},
     "output_type": "execute_result"
    }
   ],
   "source": [
    "r.scan(match=\"*\",\n",
    "       _type=\"ZSET\")[1]"
   ]
  },
  {
   "cell_type": "code",
   "execution_count": null,
   "id": "d1e3269a",
   "metadata": {},
   "outputs": [],
   "source": []
  }
 ],
 "metadata": {
  "kernelspec": {
   "display_name": ".venv",
   "language": "python",
   "name": "python3"
  },
  "language_info": {
   "codemirror_mode": {
    "name": "ipython",
    "version": 3
   },
   "file_extension": ".py",
   "mimetype": "text/x-python",
   "name": "python",
   "nbconvert_exporter": "python",
   "pygments_lexer": "ipython3",
   "version": "3.13.3"
  }
 },
 "nbformat": 4,
 "nbformat_minor": 5
}
